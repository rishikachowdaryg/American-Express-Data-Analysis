{
  "nbformat": 4,
  "nbformat_minor": 0,
  "metadata": {
    "colab": {
      "name": "American-Express-Data-Analysis.ipynb",
      "provenance": [],
      "authorship_tag": "ABX9TyNeJIWbutsQSYikpmeFQUie",
      "include_colab_link": true
    },
    "kernelspec": {
      "name": "python3",
      "display_name": "Python 3"
    },
    "language_info": {
      "name": "python"
    }
  },
  "cells": [
    {
      "cell_type": "markdown",
      "metadata": {
        "id": "view-in-github",
        "colab_type": "text"
      },
      "source": [
        "<a href=\"https://colab.research.google.com/github/rishikachowdaryg/American-Express-Data-Analysis/blob/main/American_Express_Data_Analysis.ipynb\" target=\"_parent\"><img src=\"https://colab.research.google.com/assets/colab-badge.svg\" alt=\"Open In Colab\"/></a>"
      ]
    },
    {
      "cell_type": "code",
      "metadata": {
        "id": "_Qjdt2FWTx7d"
      },
      "source": [
        "import numpy as np\n",
        "import pandas as pd\n",
        "import tensorflow as tf"
      ],
      "execution_count": 1,
      "outputs": []
    },
    {
      "cell_type": "code",
      "metadata": {
        "colab": {
          "base_uri": "https://localhost:8080/",
          "height": 35
        },
        "id": "4jlAblH9UIzu",
        "outputId": "3fdc0d08-be51-4920-9ac8-1b0d9ba8a26e"
      },
      "source": [
        "tf.__version__"
      ],
      "execution_count": 2,
      "outputs": [
        {
          "output_type": "execute_result",
          "data": {
            "application/vnd.google.colaboratory.intrinsic+json": {
              "type": "string"
            },
            "text/plain": [
              "'2.6.0'"
            ]
          },
          "metadata": {},
          "execution_count": 2
        }
      ]
    },
    {
      "cell_type": "code",
      "metadata": {
        "id": "-pSkMKcNUMfp"
      },
      "source": [
        "dataset = pd.read_csv('American Express User Exit Pred.csv')\n",
        "X = dataset.iloc[:, 0:-1].values\n",
        "y = dataset.iloc[:, -1].values"
      ],
      "execution_count": 5,
      "outputs": []
    },
    {
      "cell_type": "code",
      "metadata": {
        "colab": {
          "base_uri": "https://localhost:8080/"
        },
        "id": "gUZmndzJXlpU",
        "outputId": "5a737a40-1774-4e26-8eeb-a60c6d019025"
      },
      "source": [
        "print(X)"
      ],
      "execution_count": 6,
      "outputs": [
        {
          "output_type": "stream",
          "name": "stdout",
          "text": [
            "[[553 'Delhi' 'Female' ... 4 1 274150]\n",
            " [447 'Bengaluru' 'Male' ... 4 1 519360]\n",
            " [501 'Delhi' 'Female' ... 4 1 545501]\n",
            " ...\n",
            " [627 'Mumbai' 'Female' ... 4 0 494067]\n",
            " [600 'Bengaluru' 'Female' ... 2 1 109375]\n",
            " [553 'Delhi' 'Male' ... 4 1 180031]]\n"
          ]
        }
      ]
    },
    {
      "cell_type": "code",
      "metadata": {
        "id": "zmBY1klzXqSP"
      },
      "source": [
        "from sklearn.preprocessing import LabelEncoder\n",
        "label_encoder = LabelEncoder()\n",
        "X[:, 2] = label_encoder.fit_transform(X[:, 2])"
      ],
      "execution_count": 7,
      "outputs": []
    },
    {
      "cell_type": "code",
      "metadata": {
        "colab": {
          "base_uri": "https://localhost:8080/"
        },
        "id": "JQnRCoLsd6Cg",
        "outputId": "4cb02e60-80a5-4670-dbc2-d4b9e488750c"
      },
      "source": [
        "print(X)"
      ],
      "execution_count": 8,
      "outputs": [
        {
          "output_type": "stream",
          "name": "stdout",
          "text": [
            "[[553 'Delhi' 0 ... 4 1 274150]\n",
            " [447 'Bengaluru' 1 ... 4 1 519360]\n",
            " [501 'Delhi' 0 ... 4 1 545501]\n",
            " ...\n",
            " [627 'Mumbai' 0 ... 4 0 494067]\n",
            " [600 'Bengaluru' 0 ... 2 1 109375]\n",
            " [553 'Delhi' 1 ... 4 1 180031]]\n"
          ]
        }
      ]
    },
    {
      "cell_type": "code",
      "metadata": {
        "id": "gDWhz2lkd7_A"
      },
      "source": [
        "from sklearn.compose import ColumnTransformer\n",
        "from sklearn.preprocessing import OneHotEncoder\n",
        "ct = ColumnTransformer(transformers=[('encoder', OneHotEncoder(), [1])], remainder='passthrough')\n",
        "X = np.array(ct.fit_transform(X))"
      ],
      "execution_count": 9,
      "outputs": []
    },
    {
      "cell_type": "code",
      "metadata": {
        "colab": {
          "base_uri": "https://localhost:8080/"
        },
        "id": "Cv7JXKL0eAw-",
        "outputId": "34253b0d-a8dd-4828-8bfc-cdd0c8497344"
      },
      "source": [
        "print(X)"
      ],
      "execution_count": 10,
      "outputs": [
        {
          "output_type": "stream",
          "name": "stdout",
          "text": [
            "[[0.0 1.0 0.0 ... 4 1 274150]\n",
            " [1.0 0.0 0.0 ... 4 1 519360]\n",
            " [0.0 1.0 0.0 ... 4 1 545501]\n",
            " ...\n",
            " [0.0 0.0 1.0 ... 4 0 494067]\n",
            " [1.0 0.0 0.0 ... 2 1 109375]\n",
            " [0.0 1.0 0.0 ... 4 1 180031]]\n"
          ]
        }
      ]
    },
    {
      "cell_type": "code",
      "metadata": {
        "id": "_wjlUXP7eEv-"
      },
      "source": [
        "from sklearn.model_selection import train_test_split\n",
        "X_train, X_test, y_train, y_test = train_test_split(X, y, test_size = 0.2, random_state = 0)"
      ],
      "execution_count": 11,
      "outputs": []
    },
    {
      "cell_type": "code",
      "metadata": {
        "id": "7K3zCcUdeFUF"
      },
      "source": [
        "from sklearn.preprocessing import StandardScaler\n",
        "sc = StandardScaler()\n",
        "X_train = sc.fit_transform(X_train)\n",
        "X_test = sc.transform(X_test)"
      ],
      "execution_count": 12,
      "outputs": []
    },
    {
      "cell_type": "code",
      "metadata": {
        "id": "KfiFFLH7eHM2"
      },
      "source": [
        "ann = tf.keras.models.Sequential()"
      ],
      "execution_count": 13,
      "outputs": []
    },
    {
      "cell_type": "code",
      "metadata": {
        "id": "7MvT_AwEeMzu"
      },
      "source": [
        "ann.add(tf.keras.layers.Dense(units=6, activation='relu'))"
      ],
      "execution_count": 14,
      "outputs": []
    },
    {
      "cell_type": "code",
      "metadata": {
        "id": "Sp4PuWvLeO8R"
      },
      "source": [
        "ann.add(tf.keras.layers.Dense(units=6, activation='relu'))"
      ],
      "execution_count": 15,
      "outputs": []
    },
    {
      "cell_type": "code",
      "metadata": {
        "id": "bwbwzsKoeRMy"
      },
      "source": [
        "ann.add(tf.keras.layers.Dense(units=1, activation='sigmoid'))"
      ],
      "execution_count": 16,
      "outputs": []
    },
    {
      "cell_type": "code",
      "metadata": {
        "id": "bQ3GBfDSeTsK"
      },
      "source": [
        "ann.compile(optimizer = 'adam', loss = 'binary_crossentropy', metrics = ['accuracy'])"
      ],
      "execution_count": 17,
      "outputs": []
    },
    {
      "cell_type": "code",
      "metadata": {
        "colab": {
          "base_uri": "https://localhost:8080/"
        },
        "id": "IYTAAa5yeV8B",
        "outputId": "6c156abe-0415-4147-d323-1fa836fe2f2d"
      },
      "source": [
        "ann.fit(X_train, y_train, batch_size = 32, epochs = 120)"
      ],
      "execution_count": 18,
      "outputs": [
        {
          "output_type": "stream",
          "name": "stdout",
          "text": [
            "Epoch 1/120\n",
            "249/249 [==============================] - 1s 1ms/step - loss: 0.5130 - accuracy: 0.7912\n",
            "Epoch 2/120\n",
            "249/249 [==============================] - 0s 1ms/step - loss: 0.4621 - accuracy: 0.7966\n",
            "Epoch 3/120\n",
            "249/249 [==============================] - 0s 1ms/step - loss: 0.4485 - accuracy: 0.7966\n",
            "Epoch 4/120\n",
            "249/249 [==============================] - 0s 2ms/step - loss: 0.4407 - accuracy: 0.7966\n",
            "Epoch 5/120\n",
            "249/249 [==============================] - 0s 2ms/step - loss: 0.4357 - accuracy: 0.7966\n",
            "Epoch 6/120\n",
            "249/249 [==============================] - 0s 1ms/step - loss: 0.4329 - accuracy: 0.7966\n",
            "Epoch 7/120\n",
            "249/249 [==============================] - 0s 1ms/step - loss: 0.4310 - accuracy: 0.7966\n",
            "Epoch 8/120\n",
            "249/249 [==============================] - 0s 1ms/step - loss: 0.4295 - accuracy: 0.7981\n",
            "Epoch 9/120\n",
            "249/249 [==============================] - 0s 1ms/step - loss: 0.4284 - accuracy: 0.8044\n",
            "Epoch 10/120\n",
            "249/249 [==============================] - 0s 1ms/step - loss: 0.4272 - accuracy: 0.8070\n",
            "Epoch 11/120\n",
            "249/249 [==============================] - 0s 2ms/step - loss: 0.4262 - accuracy: 0.8091\n",
            "Epoch 12/120\n",
            "249/249 [==============================] - 0s 1ms/step - loss: 0.4251 - accuracy: 0.8105\n",
            "Epoch 13/120\n",
            "249/249 [==============================] - 0s 1ms/step - loss: 0.4240 - accuracy: 0.8124\n",
            "Epoch 14/120\n",
            "249/249 [==============================] - 0s 1ms/step - loss: 0.4232 - accuracy: 0.8130\n",
            "Epoch 15/120\n",
            "249/249 [==============================] - 0s 1ms/step - loss: 0.4221 - accuracy: 0.8148\n",
            "Epoch 16/120\n",
            "249/249 [==============================] - 0s 1ms/step - loss: 0.4209 - accuracy: 0.8155\n",
            "Epoch 17/120\n",
            "249/249 [==============================] - 0s 1ms/step - loss: 0.4201 - accuracy: 0.8170\n",
            "Epoch 18/120\n",
            "249/249 [==============================] - 0s 1ms/step - loss: 0.4189 - accuracy: 0.8175\n",
            "Epoch 19/120\n",
            "249/249 [==============================] - 0s 1ms/step - loss: 0.4176 - accuracy: 0.8206\n",
            "Epoch 20/120\n",
            "249/249 [==============================] - 0s 1ms/step - loss: 0.4163 - accuracy: 0.8207\n",
            "Epoch 21/120\n",
            "249/249 [==============================] - 0s 1ms/step - loss: 0.4155 - accuracy: 0.8222\n",
            "Epoch 22/120\n",
            "249/249 [==============================] - 0s 1ms/step - loss: 0.4144 - accuracy: 0.8222\n",
            "Epoch 23/120\n",
            "249/249 [==============================] - 0s 1ms/step - loss: 0.4135 - accuracy: 0.8227\n",
            "Epoch 24/120\n",
            "249/249 [==============================] - 0s 1ms/step - loss: 0.4124 - accuracy: 0.8236\n",
            "Epoch 25/120\n",
            "249/249 [==============================] - 0s 1ms/step - loss: 0.4118 - accuracy: 0.8234\n",
            "Epoch 26/120\n",
            "249/249 [==============================] - 0s 1ms/step - loss: 0.4113 - accuracy: 0.8238\n",
            "Epoch 27/120\n",
            "249/249 [==============================] - 0s 1ms/step - loss: 0.4103 - accuracy: 0.8253\n",
            "Epoch 28/120\n",
            "249/249 [==============================] - 0s 1ms/step - loss: 0.4093 - accuracy: 0.8253\n",
            "Epoch 29/120\n",
            "249/249 [==============================] - 0s 1ms/step - loss: 0.4083 - accuracy: 0.8267\n",
            "Epoch 30/120\n",
            "249/249 [==============================] - 0s 1ms/step - loss: 0.4075 - accuracy: 0.8262\n",
            "Epoch 31/120\n",
            "249/249 [==============================] - 0s 1ms/step - loss: 0.4064 - accuracy: 0.8280\n",
            "Epoch 32/120\n",
            "249/249 [==============================] - 0s 1ms/step - loss: 0.4048 - accuracy: 0.8260\n",
            "Epoch 33/120\n",
            "249/249 [==============================] - 0s 1ms/step - loss: 0.4030 - accuracy: 0.8279\n",
            "Epoch 34/120\n",
            "249/249 [==============================] - 0s 1ms/step - loss: 0.4012 - accuracy: 0.8287\n",
            "Epoch 35/120\n",
            "249/249 [==============================] - 0s 1ms/step - loss: 0.3998 - accuracy: 0.8280\n",
            "Epoch 36/120\n",
            "249/249 [==============================] - 0s 1ms/step - loss: 0.3983 - accuracy: 0.8296\n",
            "Epoch 37/120\n",
            "249/249 [==============================] - 0s 1ms/step - loss: 0.3971 - accuracy: 0.8297\n",
            "Epoch 38/120\n",
            "249/249 [==============================] - 0s 1ms/step - loss: 0.3960 - accuracy: 0.8279\n",
            "Epoch 39/120\n",
            "249/249 [==============================] - 0s 1ms/step - loss: 0.3952 - accuracy: 0.8295\n",
            "Epoch 40/120\n",
            "249/249 [==============================] - 0s 1ms/step - loss: 0.3943 - accuracy: 0.8295\n",
            "Epoch 41/120\n",
            "249/249 [==============================] - 0s 1ms/step - loss: 0.3938 - accuracy: 0.8296\n",
            "Epoch 42/120\n",
            "249/249 [==============================] - 0s 1ms/step - loss: 0.3931 - accuracy: 0.8287\n",
            "Epoch 43/120\n",
            "249/249 [==============================] - 0s 1ms/step - loss: 0.3927 - accuracy: 0.8306\n",
            "Epoch 44/120\n",
            "249/249 [==============================] - 0s 1ms/step - loss: 0.3922 - accuracy: 0.8294\n",
            "Epoch 45/120\n",
            "249/249 [==============================] - 0s 1ms/step - loss: 0.3921 - accuracy: 0.8301\n",
            "Epoch 46/120\n",
            "249/249 [==============================] - 0s 1ms/step - loss: 0.3914 - accuracy: 0.8314\n",
            "Epoch 47/120\n",
            "249/249 [==============================] - 0s 1ms/step - loss: 0.3911 - accuracy: 0.8311\n",
            "Epoch 48/120\n",
            "249/249 [==============================] - 0s 1ms/step - loss: 0.3908 - accuracy: 0.8316\n",
            "Epoch 49/120\n",
            "249/249 [==============================] - 0s 1ms/step - loss: 0.3905 - accuracy: 0.8302\n",
            "Epoch 50/120\n",
            "249/249 [==============================] - 0s 1ms/step - loss: 0.3897 - accuracy: 0.8320\n",
            "Epoch 51/120\n",
            "249/249 [==============================] - 0s 1ms/step - loss: 0.3899 - accuracy: 0.8304\n",
            "Epoch 52/120\n",
            "249/249 [==============================] - 0s 1ms/step - loss: 0.3889 - accuracy: 0.8313\n",
            "Epoch 53/120\n",
            "249/249 [==============================] - 0s 1ms/step - loss: 0.3888 - accuracy: 0.8311\n",
            "Epoch 54/120\n",
            "249/249 [==============================] - 0s 1ms/step - loss: 0.3880 - accuracy: 0.8318\n",
            "Epoch 55/120\n",
            "249/249 [==============================] - 0s 1ms/step - loss: 0.3875 - accuracy: 0.8310\n",
            "Epoch 56/120\n",
            "249/249 [==============================] - 0s 1ms/step - loss: 0.3872 - accuracy: 0.8324\n",
            "Epoch 57/120\n",
            "249/249 [==============================] - 0s 1ms/step - loss: 0.3865 - accuracy: 0.8305\n",
            "Epoch 58/120\n",
            "249/249 [==============================] - 0s 1ms/step - loss: 0.3858 - accuracy: 0.8320\n",
            "Epoch 59/120\n",
            "249/249 [==============================] - 0s 1ms/step - loss: 0.3852 - accuracy: 0.8316\n",
            "Epoch 60/120\n",
            "249/249 [==============================] - 0s 1ms/step - loss: 0.3845 - accuracy: 0.8321\n",
            "Epoch 61/120\n",
            "249/249 [==============================] - 0s 1ms/step - loss: 0.3840 - accuracy: 0.8315\n",
            "Epoch 62/120\n",
            "249/249 [==============================] - 0s 1ms/step - loss: 0.3834 - accuracy: 0.8314\n",
            "Epoch 63/120\n",
            "249/249 [==============================] - 0s 1ms/step - loss: 0.3829 - accuracy: 0.8310\n",
            "Epoch 64/120\n",
            "249/249 [==============================] - 0s 1ms/step - loss: 0.3821 - accuracy: 0.8325\n",
            "Epoch 65/120\n",
            "249/249 [==============================] - 0s 1ms/step - loss: 0.3812 - accuracy: 0.8315\n",
            "Epoch 66/120\n",
            "249/249 [==============================] - 0s 1ms/step - loss: 0.3811 - accuracy: 0.8318\n",
            "Epoch 67/120\n",
            "249/249 [==============================] - 0s 1ms/step - loss: 0.3805 - accuracy: 0.8304\n",
            "Epoch 68/120\n",
            "249/249 [==============================] - 0s 1ms/step - loss: 0.3799 - accuracy: 0.8315\n",
            "Epoch 69/120\n",
            "249/249 [==============================] - 0s 1ms/step - loss: 0.3793 - accuracy: 0.8321\n",
            "Epoch 70/120\n",
            "249/249 [==============================] - 0s 1ms/step - loss: 0.3792 - accuracy: 0.8331\n",
            "Epoch 71/120\n",
            "249/249 [==============================] - 0s 1ms/step - loss: 0.3787 - accuracy: 0.8314\n",
            "Epoch 72/120\n",
            "249/249 [==============================] - 0s 1ms/step - loss: 0.3783 - accuracy: 0.8331\n",
            "Epoch 73/120\n",
            "249/249 [==============================] - 0s 1ms/step - loss: 0.3781 - accuracy: 0.8328\n",
            "Epoch 74/120\n",
            "249/249 [==============================] - 0s 1ms/step - loss: 0.3781 - accuracy: 0.8352\n",
            "Epoch 75/120\n",
            "249/249 [==============================] - 0s 1ms/step - loss: 0.3777 - accuracy: 0.8318\n",
            "Epoch 76/120\n",
            "249/249 [==============================] - 0s 1ms/step - loss: 0.3774 - accuracy: 0.8336\n",
            "Epoch 77/120\n",
            "249/249 [==============================] - 0s 1ms/step - loss: 0.3768 - accuracy: 0.8342\n",
            "Epoch 78/120\n",
            "249/249 [==============================] - 0s 1ms/step - loss: 0.3765 - accuracy: 0.8338\n",
            "Epoch 79/120\n",
            "249/249 [==============================] - 0s 1ms/step - loss: 0.3763 - accuracy: 0.8349\n",
            "Epoch 80/120\n",
            "249/249 [==============================] - 0s 2ms/step - loss: 0.3755 - accuracy: 0.8363\n",
            "Epoch 81/120\n",
            "249/249 [==============================] - 0s 1ms/step - loss: 0.3758 - accuracy: 0.8355\n",
            "Epoch 82/120\n",
            "249/249 [==============================] - 0s 1ms/step - loss: 0.3757 - accuracy: 0.8349\n",
            "Epoch 83/120\n",
            "249/249 [==============================] - 0s 1ms/step - loss: 0.3753 - accuracy: 0.8342\n",
            "Epoch 84/120\n",
            "249/249 [==============================] - 0s 1ms/step - loss: 0.3749 - accuracy: 0.8367\n",
            "Epoch 85/120\n",
            "249/249 [==============================] - 0s 1ms/step - loss: 0.3743 - accuracy: 0.8352\n",
            "Epoch 86/120\n",
            "249/249 [==============================] - 0s 1ms/step - loss: 0.3740 - accuracy: 0.8368\n",
            "Epoch 87/120\n",
            "249/249 [==============================] - 0s 1ms/step - loss: 0.3737 - accuracy: 0.8362\n",
            "Epoch 88/120\n",
            "249/249 [==============================] - 0s 1ms/step - loss: 0.3740 - accuracy: 0.8368\n",
            "Epoch 89/120\n",
            "249/249 [==============================] - 0s 2ms/step - loss: 0.3735 - accuracy: 0.8367\n",
            "Epoch 90/120\n",
            "249/249 [==============================] - 0s 1ms/step - loss: 0.3734 - accuracy: 0.8354\n",
            "Epoch 91/120\n",
            "249/249 [==============================] - 0s 2ms/step - loss: 0.3729 - accuracy: 0.8348\n",
            "Epoch 92/120\n",
            "249/249 [==============================] - 0s 1ms/step - loss: 0.3725 - accuracy: 0.8382\n",
            "Epoch 93/120\n",
            "249/249 [==============================] - 0s 1ms/step - loss: 0.3720 - accuracy: 0.8359\n",
            "Epoch 94/120\n",
            "249/249 [==============================] - 0s 1ms/step - loss: 0.3725 - accuracy: 0.8376\n",
            "Epoch 95/120\n",
            "249/249 [==============================] - 0s 1ms/step - loss: 0.3720 - accuracy: 0.8374\n",
            "Epoch 96/120\n",
            "249/249 [==============================] - 0s 1ms/step - loss: 0.3717 - accuracy: 0.8359\n",
            "Epoch 97/120\n",
            "249/249 [==============================] - 0s 1ms/step - loss: 0.3714 - accuracy: 0.8358\n",
            "Epoch 98/120\n",
            "249/249 [==============================] - 0s 1ms/step - loss: 0.3710 - accuracy: 0.8382\n",
            "Epoch 99/120\n",
            "249/249 [==============================] - 0s 2ms/step - loss: 0.3712 - accuracy: 0.8364\n",
            "Epoch 100/120\n",
            "249/249 [==============================] - 0s 1ms/step - loss: 0.3714 - accuracy: 0.8368\n",
            "Epoch 101/120\n",
            "249/249 [==============================] - 0s 2ms/step - loss: 0.3708 - accuracy: 0.8377\n",
            "Epoch 102/120\n",
            "249/249 [==============================] - 0s 1ms/step - loss: 0.3708 - accuracy: 0.8374\n",
            "Epoch 103/120\n",
            "249/249 [==============================] - 0s 2ms/step - loss: 0.3700 - accuracy: 0.8384\n",
            "Epoch 104/120\n",
            "249/249 [==============================] - 0s 1ms/step - loss: 0.3702 - accuracy: 0.8374\n",
            "Epoch 105/120\n",
            "249/249 [==============================] - 0s 1ms/step - loss: 0.3700 - accuracy: 0.8389\n",
            "Epoch 106/120\n",
            "249/249 [==============================] - 0s 1ms/step - loss: 0.3701 - accuracy: 0.8388\n",
            "Epoch 107/120\n",
            "249/249 [==============================] - 0s 1ms/step - loss: 0.3694 - accuracy: 0.8374\n",
            "Epoch 108/120\n",
            "249/249 [==============================] - 0s 1ms/step - loss: 0.3698 - accuracy: 0.8378\n",
            "Epoch 109/120\n",
            "249/249 [==============================] - 0s 1ms/step - loss: 0.3696 - accuracy: 0.8392\n",
            "Epoch 110/120\n",
            "249/249 [==============================] - 0s 2ms/step - loss: 0.3693 - accuracy: 0.8372\n",
            "Epoch 111/120\n",
            "249/249 [==============================] - 0s 1ms/step - loss: 0.3689 - accuracy: 0.8374\n",
            "Epoch 112/120\n",
            "249/249 [==============================] - 0s 1ms/step - loss: 0.3695 - accuracy: 0.8391\n",
            "Epoch 113/120\n",
            "249/249 [==============================] - 0s 2ms/step - loss: 0.3690 - accuracy: 0.8383\n",
            "Epoch 114/120\n",
            "249/249 [==============================] - 0s 2ms/step - loss: 0.3685 - accuracy: 0.8374\n",
            "Epoch 115/120\n",
            "249/249 [==============================] - 0s 2ms/step - loss: 0.3686 - accuracy: 0.8391\n",
            "Epoch 116/120\n",
            "249/249 [==============================] - 0s 2ms/step - loss: 0.3684 - accuracy: 0.8411\n",
            "Epoch 117/120\n",
            "249/249 [==============================] - 0s 2ms/step - loss: 0.3683 - accuracy: 0.8382\n",
            "Epoch 118/120\n",
            "249/249 [==============================] - 0s 1ms/step - loss: 0.3681 - accuracy: 0.8384\n",
            "Epoch 119/120\n",
            "249/249 [==============================] - 0s 1ms/step - loss: 0.3684 - accuracy: 0.8364\n",
            "Epoch 120/120\n",
            "249/249 [==============================] - 0s 1ms/step - loss: 0.3679 - accuracy: 0.8386\n"
          ]
        },
        {
          "output_type": "execute_result",
          "data": {
            "text/plain": [
              "<keras.callbacks.History at 0x7fe8dfa65f90>"
            ]
          },
          "metadata": {},
          "execution_count": 18
        }
      ]
    },
    {
      "cell_type": "code",
      "metadata": {
        "colab": {
          "base_uri": "https://localhost:8080/"
        },
        "id": "xUCHKNS0eY9P",
        "outputId": "df44239a-5c46-419a-c8ac-8b6e9983c3c4"
      },
      "source": [
        "print(ann.predict(sc.transform([[0.0, 1.0, 0.0, 501, 0, 32, 2, 0.0, 4, 1, 545501]])) > 0.5)"
      ],
      "execution_count": 19,
      "outputs": [
        {
          "output_type": "stream",
          "name": "stdout",
          "text": [
            "[[False]]\n"
          ]
        }
      ]
    },
    {
      "cell_type": "code",
      "metadata": {
        "colab": {
          "base_uri": "https://localhost:8080/"
        },
        "id": "GofYgllvex24",
        "outputId": "690329ba-19be-4739-e1cb-e3b58b0f72d5"
      },
      "source": [
        "y_pred = ann.predict(X_test)\n",
        "y_pred = (y_pred > 0.5)\n",
        "print(np.concatenate((y_pred.reshape(len(y_pred),1), y_test.reshape(len(y_test),1)),1))"
      ],
      "execution_count": 20,
      "outputs": [
        {
          "output_type": "stream",
          "name": "stdout",
          "text": [
            "[[0 1]\n",
            " [0 0]\n",
            " [0 0]\n",
            " ...\n",
            " [0 1]\n",
            " [0 0]\n",
            " [1 1]]\n"
          ]
        }
      ]
    },
    {
      "cell_type": "code",
      "metadata": {
        "colab": {
          "base_uri": "https://localhost:8080/"
        },
        "id": "PyUiR3qpe0V4",
        "outputId": "cc1c89ec-2699-4ba3-fb3c-af832c276265"
      },
      "source": [
        "from sklearn.metrics import confusion_matrix, accuracy_score\n",
        "cm = confusion_matrix(y_test, y_pred)\n",
        "print(cm)\n",
        "accuracy_score(y_test, y_pred)"
      ],
      "execution_count": 21,
      "outputs": [
        {
          "output_type": "stream",
          "name": "stdout",
          "text": [
            "[[1471  102]\n",
            " [ 233  180]]\n"
          ]
        },
        {
          "output_type": "execute_result",
          "data": {
            "text/plain": [
              "0.8313192346424975"
            ]
          },
          "metadata": {},
          "execution_count": 21
        }
      ]
    }
  ]
}